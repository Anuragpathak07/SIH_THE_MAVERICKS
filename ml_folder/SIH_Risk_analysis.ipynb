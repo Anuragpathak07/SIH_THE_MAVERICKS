{
  "nbformat": 4,
  "nbformat_minor": 0,
  "metadata": {
    "colab": {
      "provenance": [],
      "gpuType": "T4"
    },
    "kernelspec": {
      "name": "python3",
      "display_name": "Python 3"
    },
    "language_info": {
      "name": "python"
    },
    "accelerator": "GPU"
  },
  "cells": [
    {
      "cell_type": "code",
      "source": [],
      "metadata": {
        "id": "qjE5eg2_-2qm"
      },
      "execution_count": null,
      "outputs": []
    },
    {
      "cell_type": "code",
      "source": [],
      "metadata": {
        "id": "ocaaCd2h_rRg"
      },
      "execution_count": null,
      "outputs": []
    },
    {
      "cell_type": "code",
      "source": [
        "import pandas as pd\n",
        "\n",
        "# --- 1. Collect User Input ---\n",
        "print(\"Enter the following parameters for Rockfall Risk Analysis:\")\n",
        "\n",
        "height = float(input(\"Height: \"))\n",
        "cohesion = float(input(\"Cohesion: \"))\n",
        "friction_angle = float(input(\"Friction Angle: \"))\n",
        "unit_weight = float(input(\"Unit Weight: \"))\n",
        "slope_angle = float(input(\"Slope Angle: \"))\n",
        "water_depth_ratio = float(input(\"Water Depth Ratio: \"))\n",
        "rainfall_mm_7d = float(input(\"Rainfall (mm in 7 days): \"))\n",
        "temperature_c = float(input(\"Temperature (°C): \"))\n",
        "vibrations_ms2 = float(input(\"Vibrations (m/s²): \"))\n",
        "\n",
        "# --- 2. Create DataFrame ---\n",
        "user_data = {\n",
        "    'height': [height],\n",
        "    'cohesion': [cohesion],\n",
        "    'friction_angle': [friction_angle],\n",
        "    'unit_weight': [unit_weight],\n",
        "    'slope_angle': [slope_angle],\n",
        "    'water_depth_ratio': [water_depth_ratio],\n",
        "    'rainfall_mm_7d': [rainfall_mm_7d],\n",
        "    'temperature_c': [temperature_c],\n",
        "    'vibrations_ms2': [vibrations_ms2]\n",
        "}\n",
        "\n",
        "user_df = pd.DataFrame(user_data)\n",
        "\n",
        "# --- 3. Make Prediction ---\n",
        "prediction_encoded = model.predict(user_df)\n",
        "prediction_proba = model.predict_proba(user_df)\n",
        "prediction_label = le.inverse_transform(prediction_encoded)\n",
        "\n",
        "# --- 4. Display Result ---\n",
        "print(\"\\n--- Rockfall Risk Analysis ---\")\n",
        "print(f\"Predicted Risk Level: {prediction_label[0]}\")\n",
        "print(\"\\nConfidence Scores:\")\n",
        "for i, class_name in enumerate(le.classes_):\n",
        "    print(f\"  - {class_name}: {prediction_proba[0][i]*100:.2f}%\")\n"
      ],
      "metadata": {
        "colab": {
          "base_uri": "https://localhost:8080/"
        },
        "id": "ratNA83sCFA3",
        "outputId": "1613b1d5-edfa-4d75-8a9a-544e1c85e1f2"
      },
      "execution_count": null,
      "outputs": [
        {
          "output_type": "stream",
          "name": "stdout",
          "text": [
            "Enter the following parameters for Rockfall Risk Analysis:\n",
            "Height: 10.0\n",
            "Cohesion: 50.0\n",
            "Friction Angle: 40.0\n",
            "Unit Weight: 20.0\n",
            "Slope Angle: 20.0\n",
            "Water Depth Ratio: 0.1\n",
            "Rainfall (mm in 7 days): 0.5\n",
            "Temperature (°C): 15.0\n",
            "Vibrations (m/s²): 0.1\n",
            "\n",
            "--- Rockfall Risk Analysis ---\n",
            "Predicted Risk Level: High\n",
            "\n",
            "Confidence Scores:\n",
            "  - High: 99.14%\n",
            "  - Low: 0.27%\n",
            "  - Medium: 0.60%\n"
          ]
        }
      ]
    },
    {
      "cell_type": "code",
      "source": [
        "print(X_train.describe())\n"
      ],
      "metadata": {
        "colab": {
          "base_uri": "https://localhost:8080/"
        },
        "id": "qOxaSOY5C_dD",
        "outputId": "6696d4e0-bf39-4c28-9aa8-766ab3224f7e"
      },
      "execution_count": null,
      "outputs": [
        {
          "output_type": "stream",
          "name": "stdout",
          "text": [
            "           height    cohesion  friction_angle  unit_weight  slope_angle  \\\n",
            "count  741.000000  741.000000      741.000000   741.000000   741.000000   \n",
            "mean    28.408969   17.024076       31.741968    18.926794    51.728284   \n",
            "std     11.839965    5.388532        6.358734     1.404034    12.414437   \n",
            "min      5.337332    5.107181       20.327419    16.015092    20.132412   \n",
            "25%     17.323112   16.673586       26.595782    18.056034    42.545735   \n",
            "50%     28.458404   16.673586       31.338851    18.990303    54.928508   \n",
            "75%     38.923489   16.673586       35.782048    20.045516    61.406063   \n",
            "max     49.367796   49.316145       44.879559    21.988198    69.893418   \n",
            "\n",
            "       water_depth_ratio  rainfall_mm_7d  temperature_c  vibrations_ms2  \n",
            "count         741.000000      741.000000     741.000000      741.000000  \n",
            "mean            0.483946       76.487584      26.861188        0.065128  \n",
            "std             0.195709       21.705942       7.291758        0.043392  \n",
            "min             0.049376       51.000000       6.120000        0.002700  \n",
            "25%             0.297946       74.010000      22.380000        0.029900  \n",
            "50%             0.531582       74.010000      26.570000        0.057900  \n",
            "75%             0.639913       74.010000      32.340000        0.090200  \n",
            "max             0.797929      300.000000      40.000000        0.217400  \n"
          ]
        }
      ]
    },
    {
      "cell_type": "code",
      "source": [
        "print(df['risk_level'].value_counts())\n"
      ],
      "metadata": {
        "colab": {
          "base_uri": "https://localhost:8080/"
        },
        "id": "rycW-hsCEtsH",
        "outputId": "6ce1abe2-404d-44f9-c687-7bdf3bb92e07"
      },
      "execution_count": null,
      "outputs": [
        {
          "output_type": "stream",
          "name": "stdout",
          "text": [
            "risk_level\n",
            "High      309\n",
            "Medium    309\n",
            "Low       309\n",
            "Name: count, dtype: int64\n"
          ]
        }
      ]
    },
    {
      "cell_type": "code",
      "source": [
        "import numpy as np\n",
        "import pandas as pd\n",
        "\n",
        "# Number of synthetic samples\n",
        "n_low = 200\n",
        "n_medium = 200\n",
        "\n",
        "# Low-risk examples\n",
        "low_samples = pd.DataFrame({\n",
        "    'height': np.random.uniform(5, 30, n_low),\n",
        "    'cohesion': np.random.uniform(40, 50, n_low),\n",
        "    'friction_angle': np.random.uniform(35, 45, n_low),\n",
        "    'unit_weight': np.random.uniform(16, 21, n_low),\n",
        "    'slope_angle': np.random.uniform(20, 35, n_low),\n",
        "    'water_depth_ratio': np.random.uniform(0.05, 0.3, n_low),\n",
        "    'rainfall_mm_7d': np.random.uniform(50, 80, n_low),\n",
        "    'temperature_c': np.random.uniform(10, 25, n_low),\n",
        "    'vibrations_ms2': np.random.uniform(0.002, 0.05, n_low),\n",
        "    'risk_level': 'Low'\n",
        "})\n",
        "\n",
        "# Medium-risk examples\n",
        "medium_samples = pd.DataFrame({\n",
        "    'height': np.random.uniform(30, 40, n_medium),\n",
        "    'cohesion': np.random.uniform(25, 40, n_medium),\n",
        "    'friction_angle': np.random.uniform(28, 35, n_medium),\n",
        "    'unit_weight': np.random.uniform(18, 21, n_medium),\n",
        "    'slope_angle': np.random.uniform(35, 50, n_medium),\n",
        "    'water_depth_ratio': np.random.uniform(0.3, 0.6, n_medium),\n",
        "    'rainfall_mm_7d': np.random.uniform(80, 150, n_medium),\n",
        "    'temperature_c': np.random.uniform(25, 30, n_medium),\n",
        "    'vibrations_ms2': np.random.uniform(0.05, 0.08, n_medium),\n",
        "    'risk_level': 'Medium'\n",
        "})\n",
        "\n",
        "# Combine with original dataset\n",
        "df_expanded = pd.concat([df, low_samples, medium_samples], ignore_index=True)\n"
      ],
      "metadata": {
        "id": "Gu2QI6ZQDk8T"
      },
      "execution_count": null,
      "outputs": []
    },
    {
      "cell_type": "code",
      "source": [
        "print(\"Original dataset shape:\", df.shape)\n",
        "print(\"Expanded dataset shape:\", df_expanded.shape)\n"
      ],
      "metadata": {
        "colab": {
          "base_uri": "https://localhost:8080/"
        },
        "id": "t32vU8L_EM-w",
        "outputId": "47aee1c2-1a79-4b60-c92b-83f2bff354ce"
      },
      "execution_count": null,
      "outputs": [
        {
          "output_type": "stream",
          "name": "stdout",
          "text": [
            "Original dataset shape: (927, 10)\n",
            "Expanded dataset shape: (1327, 10)\n"
          ]
        }
      ]
    },
    {
      "cell_type": "code",
      "source": [
        "print(df_expanded['risk_level'].value_counts())\n"
      ],
      "metadata": {
        "colab": {
          "base_uri": "https://localhost:8080/"
        },
        "id": "TcqE82jpEi_d",
        "outputId": "48903eb9-e22e-43ad-e631-3b3be4fe59f1"
      },
      "execution_count": null,
      "outputs": [
        {
          "output_type": "stream",
          "name": "stdout",
          "text": [
            "risk_level\n",
            "Medium    509\n",
            "Low       509\n",
            "High      309\n",
            "Name: count, dtype: int64\n"
          ]
        }
      ]
    },
    {
      "cell_type": "code",
      "source": [
        "n_high_needed = 200\n",
        "\n",
        "high_samples = pd.DataFrame({\n",
        "    'height': np.random.uniform(35, 50, n_high_needed),\n",
        "    'cohesion': np.random.uniform(5, 20, n_high_needed),\n",
        "    'friction_angle': np.random.uniform(20, 30, n_high_needed),\n",
        "    'unit_weight': np.random.uniform(18, 22, n_high_needed),\n",
        "    'slope_angle': np.random.uniform(50, 70, n_high_needed),\n",
        "    'water_depth_ratio': np.random.uniform(0.5, 0.8, n_high_needed),\n",
        "    'rainfall_mm_7d': np.random.uniform(150, 300, n_high_needed),\n",
        "    'temperature_c': np.random.uniform(25, 35, n_high_needed),\n",
        "    'vibrations_ms2': np.random.uniform(0.08, 0.1, n_high_needed),\n",
        "    'risk_level': 'High'\n",
        "})\n",
        "\n",
        "# Add to expanded dataset\n",
        "df_expanded = pd.concat([df_expanded, high_samples], ignore_index=True)\n"
      ],
      "metadata": {
        "id": "W2yrl5LlEltX"
      },
      "execution_count": null,
      "outputs": []
    },
    {
      "cell_type": "code",
      "source": [
        "print(df_expanded['risk_level'].value_counts())\n"
      ],
      "metadata": {
        "colab": {
          "base_uri": "https://localhost:8080/"
        },
        "id": "beq90lDhFAZS",
        "outputId": "756a07e0-1a98-4414-ee92-7b62bd4957c2"
      },
      "execution_count": null,
      "outputs": [
        {
          "output_type": "stream",
          "name": "stdout",
          "text": [
            "risk_level\n",
            "High      509\n",
            "Medium    509\n",
            "Low       509\n",
            "Name: count, dtype: int64\n"
          ]
        }
      ]
    },
    {
      "cell_type": "code",
      "source": [
        "# Save the expanded dataset to a CSV file\n",
        "df_expanded.to_csv(\"rockfall_risk_dataset_expanded.csv\", index=False)\n",
        "\n",
        "print(\"Expanded dataset saved as 'rockfall_risk_dataset_expanded.csv'\")\n"
      ],
      "metadata": {
        "colab": {
          "base_uri": "https://localhost:8080/"
        },
        "id": "v0lSHlM4FCU1",
        "outputId": "e1dd6bf4-952f-4564-fd24-d6ffa0b48b5f"
      },
      "execution_count": null,
      "outputs": [
        {
          "output_type": "stream",
          "name": "stdout",
          "text": [
            "Expanded dataset saved as 'rockfall_risk_dataset_expanded.csv'\n"
          ]
        }
      ]
    },
    {
      "cell_type": "code",
      "source": [
        "!pip install catboost\n"
      ],
      "metadata": {
        "colab": {
          "base_uri": "https://localhost:8080/"
        },
        "id": "YJ4tjAm_Fx8w",
        "outputId": "9e159f95-bc82-485b-fd18-e1512f5bc0e5"
      },
      "execution_count": null,
      "outputs": [
        {
          "output_type": "stream",
          "name": "stdout",
          "text": [
            "Collecting catboost\n",
            "  Downloading catboost-1.2.8-cp312-cp312-manylinux2014_x86_64.whl.metadata (1.2 kB)\n",
            "Requirement already satisfied: graphviz in /usr/local/lib/python3.12/dist-packages (from catboost) (0.21)\n",
            "Requirement already satisfied: matplotlib in /usr/local/lib/python3.12/dist-packages (from catboost) (3.10.0)\n",
            "Requirement already satisfied: numpy<3.0,>=1.16.0 in /usr/local/lib/python3.12/dist-packages (from catboost) (2.0.2)\n",
            "Requirement already satisfied: pandas>=0.24 in /usr/local/lib/python3.12/dist-packages (from catboost) (2.2.2)\n",
            "Requirement already satisfied: scipy in /usr/local/lib/python3.12/dist-packages (from catboost) (1.16.1)\n",
            "Requirement already satisfied: plotly in /usr/local/lib/python3.12/dist-packages (from catboost) (5.24.1)\n",
            "Requirement already satisfied: six in /usr/local/lib/python3.12/dist-packages (from catboost) (1.17.0)\n",
            "Requirement already satisfied: python-dateutil>=2.8.2 in /usr/local/lib/python3.12/dist-packages (from pandas>=0.24->catboost) (2.9.0.post0)\n",
            "Requirement already satisfied: pytz>=2020.1 in /usr/local/lib/python3.12/dist-packages (from pandas>=0.24->catboost) (2025.2)\n",
            "Requirement already satisfied: tzdata>=2022.7 in /usr/local/lib/python3.12/dist-packages (from pandas>=0.24->catboost) (2025.2)\n",
            "Requirement already satisfied: contourpy>=1.0.1 in /usr/local/lib/python3.12/dist-packages (from matplotlib->catboost) (1.3.3)\n",
            "Requirement already satisfied: cycler>=0.10 in /usr/local/lib/python3.12/dist-packages (from matplotlib->catboost) (0.12.1)\n",
            "Requirement already satisfied: fonttools>=4.22.0 in /usr/local/lib/python3.12/dist-packages (from matplotlib->catboost) (4.59.2)\n",
            "Requirement already satisfied: kiwisolver>=1.3.1 in /usr/local/lib/python3.12/dist-packages (from matplotlib->catboost) (1.4.9)\n",
            "Requirement already satisfied: packaging>=20.0 in /usr/local/lib/python3.12/dist-packages (from matplotlib->catboost) (25.0)\n",
            "Requirement already satisfied: pillow>=8 in /usr/local/lib/python3.12/dist-packages (from matplotlib->catboost) (11.3.0)\n",
            "Requirement already satisfied: pyparsing>=2.3.1 in /usr/local/lib/python3.12/dist-packages (from matplotlib->catboost) (3.2.3)\n",
            "Requirement already satisfied: tenacity>=6.2.0 in /usr/local/lib/python3.12/dist-packages (from plotly->catboost) (8.5.0)\n",
            "Downloading catboost-1.2.8-cp312-cp312-manylinux2014_x86_64.whl (99.2 MB)\n",
            "\u001b[2K   \u001b[90m━━━━━━━━━━━━━━━━━━━━━━━━━━━━━━━━━━━━━━━━\u001b[0m \u001b[32m99.2/99.2 MB\u001b[0m \u001b[31m9.6 MB/s\u001b[0m eta \u001b[36m0:00:00\u001b[0m\n",
            "\u001b[?25hInstalling collected packages: catboost\n",
            "Successfully installed catboost-1.2.8\n"
          ]
        }
      ]
    },
    {
      "cell_type": "code",
      "source": [
        "# --- 1. Import Libraries ---\n",
        "import pandas as pd\n",
        "from catboost import CatBoostClassifier\n",
        "from sklearn.preprocessing import LabelEncoder\n",
        "from sklearn.model_selection import train_test_split\n",
        "from sklearn.metrics import classification_report, confusion_matrix\n",
        "\n",
        "# --- 2. Load Dataset ---\n",
        "df = pd.read_csv(\"rockfall_risk_dataset_expanded.csv\")\n",
        "\n",
        "# Separate features and target\n",
        "X = df.drop('risk_level', axis=1)\n",
        "y = df['risk_level']\n",
        "\n",
        "# Encode target labels\n",
        "le = LabelEncoder()\n",
        "y_encoded = le.fit_transform(y)\n",
        "\n",
        "# --- 3. Train-Test Split ---\n",
        "X_train, X_test, y_train, y_test = train_test_split(\n",
        "    X, y_encoded, test_size=0.2, random_state=42, stratify=y_encoded\n",
        ")\n",
        "\n",
        "# --- 4. Initialize CatBoost Classifier ---\n",
        "cat_model = CatBoostClassifier(\n",
        "    iterations=1000,\n",
        "    learning_rate=0.05,\n",
        "    depth=6,\n",
        "    eval_metric='MultiClass',\n",
        "    verbose=100\n",
        ")\n",
        "\n",
        "# --- 5. Train the Model ---\n",
        "cat_model.fit(X_train, y_train, eval_set=(X_test, y_test))\n",
        "\n",
        "# --- 6. Evaluate Model ---\n",
        "y_pred = cat_model.predict(X_test)\n",
        "print(\"\\nClassification Report:\\n\")\n",
        "print(classification_report(y_test, y_pred, target_names=le.classes_))\n",
        "\n",
        "print(\"\\nConfusion Matrix:\\n\")\n",
        "print(confusion_matrix(y_test, y_pred))\n",
        "\n",
        "# --- 7. Save the Model (optional) ---\n",
        "cat_model.save_model(\"catboost_rockfall_model.cbm\")\n"
      ],
      "metadata": {
        "colab": {
          "base_uri": "https://localhost:8080/"
        },
        "id": "e59rhdjcFNZA",
        "outputId": "c57fa274-1d30-4575-bb57-b648377fb709"
      },
      "execution_count": null,
      "outputs": [
        {
          "output_type": "stream",
          "name": "stdout",
          "text": [
            "0:\tlearn: 1.0607236\ttest: 1.0571899\tbest: 1.0571899 (0)\ttotal: 57.5ms\tremaining: 57.4s\n",
            "100:\tlearn: 0.2176967\ttest: 0.2282097\tbest: 0.2282097 (100)\ttotal: 1.48s\tremaining: 13.2s\n",
            "200:\tlearn: 0.1018406\ttest: 0.1176079\tbest: 0.1176079 (200)\ttotal: 2.6s\tremaining: 10.3s\n",
            "300:\tlearn: 0.0608010\ttest: 0.0773813\tbest: 0.0773813 (300)\ttotal: 3.78s\tremaining: 8.79s\n",
            "400:\tlearn: 0.0404973\ttest: 0.0565056\tbest: 0.0565056 (400)\ttotal: 5.11s\tremaining: 7.63s\n",
            "500:\tlearn: 0.0296928\ttest: 0.0457414\tbest: 0.0457414 (500)\ttotal: 6.07s\tremaining: 6.04s\n",
            "600:\tlearn: 0.0226891\ttest: 0.0388662\tbest: 0.0388662 (600)\ttotal: 7.34s\tremaining: 4.87s\n",
            "700:\tlearn: 0.0180368\ttest: 0.0340341\tbest: 0.0340341 (700)\ttotal: 8.57s\tremaining: 3.65s\n",
            "800:\tlearn: 0.0147321\ttest: 0.0302864\tbest: 0.0302864 (800)\ttotal: 9.84s\tremaining: 2.44s\n",
            "900:\tlearn: 0.0125061\ttest: 0.0280082\tbest: 0.0280082 (900)\ttotal: 11.3s\tremaining: 1.24s\n",
            "999:\tlearn: 0.0108101\ttest: 0.0261574\tbest: 0.0261574 (999)\ttotal: 13.4s\tremaining: 0us\n",
            "\n",
            "bestTest = 0.02615742513\n",
            "bestIteration = 999\n",
            "\n",
            "\n",
            "Classification Report:\n",
            "\n",
            "              precision    recall  f1-score   support\n",
            "\n",
            "        High       1.00      0.99      1.00       102\n",
            "         Low       1.00      1.00      1.00       102\n",
            "      Medium       0.99      1.00      1.00       102\n",
            "\n",
            "    accuracy                           1.00       306\n",
            "   macro avg       1.00      1.00      1.00       306\n",
            "weighted avg       1.00      1.00      1.00       306\n",
            "\n",
            "\n",
            "Confusion Matrix:\n",
            "\n",
            "[[101   0   1]\n",
            " [  0 102   0]\n",
            " [  0   0 102]]\n"
          ]
        }
      ]
    },
    {
      "cell_type": "code",
      "source": [],
      "metadata": {
        "id": "GWBNhCu8FrwR"
      },
      "execution_count": null,
      "outputs": []
    },
    {
      "cell_type": "code",
      "source": [
        "import pandas as pd\n",
        "import numpy as np\n",
        "\n",
        "# --- 1. Ask user for input ---\n",
        "print(\"Enter the following parameters for Rockfall Risk Analysis:\")\n",
        "\n",
        "height = float(input(\"Height: \"))\n",
        "cohesion = float(input(\"Cohesion: \"))\n",
        "friction_angle = float(input(\"Friction Angle: \"))\n",
        "unit_weight = float(input(\"Unit Weight: \"))\n",
        "slope_angle = float(input(\"Slope Angle: \"))\n",
        "water_depth_ratio = float(input(\"Water Depth Ratio (0-1): \"))\n",
        "rainfall_mm_7d = float(input(\"Rainfall (mm in 7 days): \"))\n",
        "temperature_c = float(input(\"Temperature (°C): \"))\n",
        "vibrations_ms2 = float(input(\"Vibrations (m/s²): \"))\n",
        "\n",
        "# --- 2. Convert to DataFrame ---\n",
        "user_df = pd.DataFrame({\n",
        "    'height': [height],\n",
        "    'cohesion': [cohesion],\n",
        "    'friction_angle': [friction_angle],\n",
        "    'unit_weight': [unit_weight],\n",
        "    'slope_angle': [slope_angle],\n",
        "    'water_depth_ratio': [water_depth_ratio],\n",
        "    'rainfall_mm_7d': [rainfall_mm_7d],\n",
        "    'temperature_c': [temperature_c],\n",
        "    'vibrations_ms2': [vibrations_ms2]\n",
        "})\n",
        "\n",
        "# --- 3. Make prediction ---\n",
        "prediction_encoded = cat_model.predict(user_df)\n",
        "prediction_proba = cat_model.predict_proba(user_df)\n",
        "prediction_label = le.inverse_transform(prediction_encoded)\n",
        "\n",
        "# --- 4. Display results ---\n",
        "print(\"\\n--- Rockfall Risk Analysis ---\")\n",
        "print(f\"Predicted Risk Level: {prediction_label[0]}\")\n",
        "print(\"\\nConfidence Scores:\")\n",
        "for i, class_name in enumerate(le.classes_):\n",
        "    print(f\"  - {class_name}: {prediction_proba[0][i]*100:.2f}%\")\n",
        "\n",
        "# --- Optional: Warn if input is outside training range ---\n",
        "feature_ranges = {\n",
        "    'height': (df_expanded['height'].min(), df_expanded['height'].max()),\n",
        "    'cohesion': (df_expanded['cohesion'].min(), df_expanded['cohesion'].max()),\n",
        "    'friction_angle': (df_expanded['friction_angle'].min(), df_expanded['friction_angle'].max()),\n",
        "    'unit_weight': (df_expanded['unit_weight'].min(), df_expanded['unit_weight'].max()),\n",
        "    'slope_angle': (df_expanded['slope_angle'].min(), df_expanded['slope_angle'].max()),\n",
        "    'water_depth_ratio': (df_expanded['water_depth_ratio'].min(), df_expanded['water_depth_ratio'].max()),\n",
        "    'rainfall_mm_7d': (df_expanded['rainfall_mm_7d'].min(), df_expanded['rainfall_mm_7d'].max()),\n",
        "    'temperature_c': (df_expanded['temperature_c'].min(), df_expanded['temperature_c'].max()),\n",
        "    'vibrations_ms2': (df_expanded['vibrations_ms2'].min(), df_expanded['vibrations_ms2'].max())\n",
        "}\n",
        "\n",
        "for feature in feature_ranges:\n",
        "    low, high = feature_ranges[feature]\n",
        "    value = user_df[feature][0]\n",
        "    if value < low or value > high:\n",
        "        print(f\"⚠ Warning: {feature} ({value}) is outside the training range ({low:.2f} - {high:.2f})\")\n"
      ],
      "metadata": {
        "colab": {
          "base_uri": "https://localhost:8080/"
        },
        "id": "y2Kgsf-JGXJ5",
        "outputId": "04d21648-5261-4243-f8ac-f6718ef9dee1"
      },
      "execution_count": null,
      "outputs": [
        {
          "output_type": "stream",
          "name": "stdout",
          "text": [
            "Enter the following parameters for Rockfall Risk Analysis:\n",
            "Height: 10.0\n",
            "Cohesion: 45.0\n",
            "Friction Angle: 40.0\n",
            "Unit Weight: 19.0\n",
            "Slope Angle: 25.0\n",
            "Water Depth Ratio (0-1): 0.1\n",
            "Rainfall (mm in 7 days): 60.0\n",
            "Temperature (°C): 18.0\n",
            "Vibrations (m/s²): 0.01\n",
            "\n",
            "--- Rockfall Risk Analysis ---\n",
            "Predicted Risk Level: Low\n",
            "\n",
            "Confidence Scores:\n",
            "  - High: 0.03%\n",
            "  - Low: 99.95%\n",
            "  - Medium: 0.01%\n"
          ]
        },
        {
          "output_type": "stream",
          "name": "stderr",
          "text": [
            "/usr/local/lib/python3.12/dist-packages/sklearn/preprocessing/_label.py:151: DataConversionWarning: A column-vector y was passed when a 1d array was expected. Please change the shape of y to (n_samples, ), for example using ravel().\n",
            "  y = column_or_1d(y, warn=True)\n"
          ]
        }
      ]
    },
    {
      "cell_type": "code",
      "source": [
        "import pandas as pd\n",
        "import numpy as np\n",
        "\n",
        "# --- 1. Ask user for input ---\n",
        "print(\"Enter the following parameters for Rockfall Risk Analysis:\")\n",
        "\n",
        "height = float(input(\"Height: \"))\n",
        "cohesion = float(input(\"Cohesion: \"))\n",
        "friction_angle = float(input(\"Friction Angle: \"))\n",
        "unit_weight = float(input(\"Unit Weight: \"))\n",
        "slope_angle = float(input(\"Slope Angle: \"))\n",
        "water_depth_ratio = float(input(\"Water Depth Ratio (0-1): \"))\n",
        "rainfall_mm_7d = float(input(\"Rainfall (mm in 7 days): \"))\n",
        "temperature_c = float(input(\"Temperature (°C): \"))\n",
        "vibrations_ms2 = float(input(\"Vibrations (m/s²): \"))\n",
        "\n",
        "# --- 2. Convert to DataFrame ---\n",
        "user_df = pd.DataFrame({\n",
        "    'height': [height],\n",
        "    'cohesion': [cohesion],\n",
        "    'friction_angle': [friction_angle],\n",
        "    'unit_weight': [unit_weight],\n",
        "    'slope_angle': [slope_angle],\n",
        "    'water_depth_ratio': [water_depth_ratio],\n",
        "    'rainfall_mm_7d': [rainfall_mm_7d],\n",
        "    'temperature_c': [temperature_c],\n",
        "    'vibrations_ms2': [vibrations_ms2]\n",
        "})\n",
        "\n",
        "# --- 3. Make prediction ---\n",
        "prediction_encoded = cat_model.predict(user_df)\n",
        "prediction_proba = cat_model.predict_proba(user_df)\n",
        "prediction_label = le.inverse_transform(prediction_encoded)\n",
        "\n",
        "# --- 4. Display results ---\n",
        "print(\"\\n--- Rockfall Risk Analysis ---\")\n",
        "print(f\"Predicted Risk Level: {prediction_label[0]}\")\n",
        "print(\"\\nConfidence Scores:\")\n",
        "for i, class_name in enumerate(le.classes_):\n",
        "    print(f\"  - {class_name}: {prediction_proba[0][i]*100:.2f}%\")\n",
        "\n",
        "# --- Optional: Warn if input is outside training range ---\n",
        "feature_ranges = {\n",
        "    'height': (df_expanded['height'].min(), df_expanded['height'].max()),\n",
        "    'cohesion': (df_expanded['cohesion'].min(), df_expanded['cohesion'].max()),\n",
        "    'friction_angle': (df_expanded['friction_angle'].min(), df_expanded['friction_angle'].max()),\n",
        "    'unit_weight': (df_expanded['unit_weight'].min(), df_expanded['unit_weight'].max()),\n",
        "    'slope_angle': (df_expanded['slope_angle'].min(), df_expanded['slope_angle'].max()),\n",
        "    'water_depth_ratio': (df_expanded['water_depth_ratio'].min(), df_expanded['water_depth_ratio'].max()),\n",
        "    'rainfall_mm_7d': (df_expanded['rainfall_mm_7d'].min(), df_expanded['rainfall_mm_7d'].max()),\n",
        "    'temperature_c': (df_expanded['temperature_c'].min(), df_expanded['temperature_c'].max()),\n",
        "    'vibrations_ms2': (df_expanded['vibrations_ms2'].min(), df_expanded['vibrations_ms2'].max())\n",
        "}\n",
        "\n",
        "for feature in feature_ranges:\n",
        "    low, high = feature_ranges[feature]\n",
        "    value = user_df[feature][0]\n",
        "    if value < low or value > high:\n",
        "        print(f\"⚠ Warning: {feature} ({value}) is outside the training range ({low:.2f} - {high:.2f})\")\n"
      ],
      "metadata": {
        "colab": {
          "base_uri": "https://localhost:8080/"
        },
        "id": "A0Ax5qwMGYA5",
        "outputId": "907ccdb3-a59e-4df4-d498-19d18fddf10e"
      },
      "execution_count": null,
      "outputs": [
        {
          "output_type": "stream",
          "name": "stdout",
          "text": [
            "Enter the following parameters for Rockfall Risk Analysis:\n",
            "Height: 35.0\n",
            "Cohesion: 30.0\n",
            "Friction Angle: 32.0\n",
            "Unit Weight: 20.0\n",
            "Slope Angle: 45.0\n",
            "Water Depth Ratio (0-1): 0.5\n",
            "Rainfall (mm in 7 days): 120.0\n",
            "Temperature (°C): 28.0\n",
            "Vibrations (m/s²): 0.06\n",
            "\n",
            "--- Rockfall Risk Analysis ---\n",
            "Predicted Risk Level: Medium\n",
            "\n",
            "Confidence Scores:\n",
            "  - High: 0.04%\n",
            "  - Low: 0.01%\n",
            "  - Medium: 99.95%\n"
          ]
        },
        {
          "output_type": "stream",
          "name": "stderr",
          "text": [
            "/usr/local/lib/python3.12/dist-packages/sklearn/preprocessing/_label.py:151: DataConversionWarning: A column-vector y was passed when a 1d array was expected. Please change the shape of y to (n_samples, ), for example using ravel().\n",
            "  y = column_or_1d(y, warn=True)\n"
          ]
        }
      ]
    },
    {
      "cell_type": "code",
      "source": [
        "import pandas as pd\n",
        "import numpy as np\n",
        "\n",
        "# --- 1. Ask user for input ---\n",
        "print(\"Enter the following parameters for Rockfall Risk Analysis:\")\n",
        "\n",
        "height = float(input(\"Height: \"))\n",
        "cohesion = float(input(\"Cohesion: \"))\n",
        "friction_angle = float(input(\"Friction Angle: \"))\n",
        "unit_weight = float(input(\"Unit Weight: \"))\n",
        "slope_angle = float(input(\"Slope Angle: \"))\n",
        "water_depth_ratio = float(input(\"Water Depth Ratio (0-1): \"))\n",
        "rainfall_mm_7d = float(input(\"Rainfall (mm in 7 days): \"))\n",
        "temperature_c = float(input(\"Temperature (°C): \"))\n",
        "vibrations_ms2 = float(input(\"Vibrations (m/s²): \"))\n",
        "\n",
        "# --- 2. Convert to DataFrame ---\n",
        "user_df = pd.DataFrame({\n",
        "    'height': [height],\n",
        "    'cohesion': [cohesion],\n",
        "    'friction_angle': [friction_angle],\n",
        "    'unit_weight': [unit_weight],\n",
        "    'slope_angle': [slope_angle],\n",
        "    'water_depth_ratio': [water_depth_ratio],\n",
        "    'rainfall_mm_7d': [rainfall_mm_7d],\n",
        "    'temperature_c': [temperature_c],\n",
        "    'vibrations_ms2': [vibrations_ms2]\n",
        "})\n",
        "\n",
        "# --- 3. Make prediction ---\n",
        "prediction_encoded = cat_model.predict(user_df)\n",
        "prediction_proba = cat_model.predict_proba(user_df)\n",
        "prediction_label = le.inverse_transform(prediction_encoded)\n",
        "\n",
        "# --- 4. Display results ---\n",
        "print(\"\\n--- Rockfall Risk Analysis ---\")\n",
        "print(f\"Predicted Risk Level: {prediction_label[0]}\")\n",
        "print(\"\\nConfidence Scores:\")\n",
        "for i, class_name in enumerate(le.classes_):\n",
        "    print(f\"  - {class_name}: {prediction_proba[0][i]*100:.2f}%\")\n",
        "\n",
        "# --- Optional: Warn if input is outside training range ---\n",
        "feature_ranges = {\n",
        "    'height': (df_expanded['height'].min(), df_expanded['height'].max()),\n",
        "    'cohesion': (df_expanded['cohesion'].min(), df_expanded['cohesion'].max()),\n",
        "    'friction_angle': (df_expanded['friction_angle'].min(), df_expanded['friction_angle'].max()),\n",
        "    'unit_weight': (df_expanded['unit_weight'].min(), df_expanded['unit_weight'].max()),\n",
        "    'slope_angle': (df_expanded['slope_angle'].min(), df_expanded['slope_angle'].max()),\n",
        "    'water_depth_ratio': (df_expanded['water_depth_ratio'].min(), df_expanded['water_depth_ratio'].max()),\n",
        "    'rainfall_mm_7d': (df_expanded['rainfall_mm_7d'].min(), df_expanded['rainfall_mm_7d'].max()),\n",
        "    'temperature_c': (df_expanded['temperature_c'].min(), df_expanded['temperature_c'].max()),\n",
        "    'vibrations_ms2': (df_expanded['vibrations_ms2'].min(), df_expanded['vibrations_ms2'].max())\n",
        "}\n",
        "\n",
        "for feature in feature_ranges:\n",
        "    low, high = feature_ranges[feature]\n",
        "    value = user_df[feature][0]\n",
        "    if value < low or value > high:\n",
        "        print(f\"⚠ Warning: {feature} ({value}) is outside the training range ({low:.2f} - {high:.2f})\")\n"
      ],
      "metadata": {
        "colab": {
          "base_uri": "https://localhost:8080/"
        },
        "id": "mHapa5gsG4G8",
        "outputId": "d237202e-417a-440e-cdd3-05f18ae1727d"
      },
      "execution_count": null,
      "outputs": [
        {
          "output_type": "stream",
          "name": "stdout",
          "text": [
            "Enter the following parameters for Rockfall Risk Analysis:\n",
            "Height: 45.0\n",
            "Cohesion: 10.0\n",
            "Friction Angle: 25.0\n",
            "Unit Weight: 21.0\n",
            "Slope Angle: 60.0\n",
            "Water Depth Ratio (0-1): 0.7\n",
            "Rainfall (mm in 7 days): 250.0\n",
            "Temperature (°C): 30.0\n",
            "Vibrations (m/s²): 0.09\n",
            "\n",
            "--- Rockfall Risk Analysis ---\n",
            "Predicted Risk Level: High\n",
            "\n",
            "Confidence Scores:\n",
            "  - High: 99.93%\n",
            "  - Low: 0.03%\n",
            "  - Medium: 0.04%\n"
          ]
        },
        {
          "output_type": "stream",
          "name": "stderr",
          "text": [
            "/usr/local/lib/python3.12/dist-packages/sklearn/preprocessing/_label.py:151: DataConversionWarning: A column-vector y was passed when a 1d array was expected. Please change the shape of y to (n_samples, ), for example using ravel().\n",
            "  y = column_or_1d(y, warn=True)\n"
          ]
        }
      ]
    },
    {
      "cell_type": "code",
      "source": [
        "import pandas as pd\n",
        "import numpy as np\n",
        "\n",
        "# --- 1. Ask user for input ---\n",
        "print(\"Enter the following parameters for Rockfall Risk Analysis:\")\n",
        "\n",
        "height = float(input(\"Height: \"))\n",
        "cohesion = float(input(\"Cohesion: \"))\n",
        "friction_angle = float(input(\"Friction Angle: \"))\n",
        "unit_weight = float(input(\"Unit Weight: \"))\n",
        "slope_angle = float(input(\"Slope Angle: \"))\n",
        "water_depth_ratio = float(input(\"Water Depth Ratio (0-1): \"))\n",
        "rainfall_mm_7d = float(input(\"Rainfall (mm in 7 days): \"))\n",
        "temperature_c = float(input(\"Temperature (°C): \"))\n",
        "vibrations_ms2 = float(input(\"Vibrations (m/s²): \"))\n",
        "\n",
        "# --- 2. Convert to DataFrame ---\n",
        "user_df = pd.DataFrame({\n",
        "    'height': [height],\n",
        "    'cohesion': [cohesion],\n",
        "    'friction_angle': [friction_angle],\n",
        "    'unit_weight': [unit_weight],\n",
        "    'slope_angle': [slope_angle],\n",
        "    'water_depth_ratio': [water_depth_ratio],\n",
        "    'rainfall_mm_7d': [rainfall_mm_7d],\n",
        "    'temperature_c': [temperature_c],\n",
        "    'vibrations_ms2': [vibrations_ms2]\n",
        "})\n",
        "\n",
        "# --- 3. Make prediction ---\n",
        "prediction_encoded = cat_model.predict(user_df)\n",
        "prediction_proba = cat_model.predict_proba(user_df)\n",
        "prediction_label = le.inverse_transform(prediction_encoded)\n",
        "\n",
        "# --- 4. Display results ---\n",
        "print(\"\\n--- Rockfall Risk Analysis ---\")\n",
        "print(f\"Predicted Risk Level: {prediction_label[0]}\")\n",
        "print(\"\\nConfidence Scores:\")\n",
        "for i, class_name in enumerate(le.classes_):\n",
        "    print(f\"  - {class_name}: {prediction_proba[0][i]*100:.2f}%\")\n",
        "\n",
        "# --- Optional: Warn if input is outside training range ---\n",
        "feature_ranges = {\n",
        "    'height': (df_expanded['height'].min(), df_expanded['height'].max()),\n",
        "    'cohesion': (df_expanded['cohesion'].min(), df_expanded['cohesion'].max()),\n",
        "    'friction_angle': (df_expanded['friction_angle'].min(), df_expanded['friction_angle'].max()),\n",
        "    'unit_weight': (df_expanded['unit_weight'].min(), df_expanded['unit_weight'].max()),\n",
        "    'slope_angle': (df_expanded['slope_angle'].min(), df_expanded['slope_angle'].max()),\n",
        "    'water_depth_ratio': (df_expanded['water_depth_ratio'].min(), df_expanded['water_depth_ratio'].max()),\n",
        "    'rainfall_mm_7d': (df_expanded['rainfall_mm_7d'].min(), df_expanded['rainfall_mm_7d'].max()),\n",
        "    'temperature_c': (df_expanded['temperature_c'].min(), df_expanded['temperature_c'].max()),\n",
        "    'vibrations_ms2': (df_expanded['vibrations_ms2'].min(), df_expanded['vibrations_ms2'].max())\n",
        "}\n",
        "\n",
        "for feature in feature_ranges:\n",
        "    low, high = feature_ranges[feature]\n",
        "    value = user_df[feature][0]\n",
        "    if value < low or value > high:\n",
        "        print(f\"⚠ Warning: {feature} ({value}) is outside the training range ({low:.2f} - {high:.2f})\")\n"
      ],
      "metadata": {
        "colab": {
          "base_uri": "https://localhost:8080/",
          "height": 245
        },
        "id": "YqD_KF2zHD5k",
        "outputId": "e7473d55-cbb8-42ac-fc9c-907a04df4422"
      },
      "execution_count": null,
      "outputs": [
        {
          "name": "stdout",
          "output_type": "stream",
          "text": [
            "Enter the following parameters for Rockfall Risk Analysis:\n",
            "Height: -\n"
          ]
        },
        {
          "output_type": "error",
          "ename": "ValueError",
          "evalue": "could not convert string to float: '-'",
          "traceback": [
            "\u001b[0;31m---------------------------------------------------------------------------\u001b[0m",
            "\u001b[0;31mValueError\u001b[0m                                Traceback (most recent call last)",
            "\u001b[0;32m/tmp/ipython-input-1639895986.py\u001b[0m in \u001b[0;36m<cell line: 0>\u001b[0;34m()\u001b[0m\n\u001b[1;32m      5\u001b[0m \u001b[0mprint\u001b[0m\u001b[0;34m(\u001b[0m\u001b[0;34m\"Enter the following parameters for Rockfall Risk Analysis:\"\u001b[0m\u001b[0;34m)\u001b[0m\u001b[0;34m\u001b[0m\u001b[0;34m\u001b[0m\u001b[0m\n\u001b[1;32m      6\u001b[0m \u001b[0;34m\u001b[0m\u001b[0m\n\u001b[0;32m----> 7\u001b[0;31m \u001b[0mheight\u001b[0m \u001b[0;34m=\u001b[0m \u001b[0mfloat\u001b[0m\u001b[0;34m(\u001b[0m\u001b[0minput\u001b[0m\u001b[0;34m(\u001b[0m\u001b[0;34m\"Height: \"\u001b[0m\u001b[0;34m)\u001b[0m\u001b[0;34m)\u001b[0m\u001b[0;34m\u001b[0m\u001b[0;34m\u001b[0m\u001b[0m\n\u001b[0m\u001b[1;32m      8\u001b[0m \u001b[0mcohesion\u001b[0m \u001b[0;34m=\u001b[0m \u001b[0mfloat\u001b[0m\u001b[0;34m(\u001b[0m\u001b[0minput\u001b[0m\u001b[0;34m(\u001b[0m\u001b[0;34m\"Cohesion: \"\u001b[0m\u001b[0;34m)\u001b[0m\u001b[0;34m)\u001b[0m\u001b[0;34m\u001b[0m\u001b[0;34m\u001b[0m\u001b[0m\n\u001b[1;32m      9\u001b[0m \u001b[0mfriction_angle\u001b[0m \u001b[0;34m=\u001b[0m \u001b[0mfloat\u001b[0m\u001b[0;34m(\u001b[0m\u001b[0minput\u001b[0m\u001b[0;34m(\u001b[0m\u001b[0;34m\"Friction Angle: \"\u001b[0m\u001b[0;34m)\u001b[0m\u001b[0;34m)\u001b[0m\u001b[0;34m\u001b[0m\u001b[0;34m\u001b[0m\u001b[0m\n",
            "\u001b[0;31mValueError\u001b[0m: could not convert string to float: '-'"
          ]
        }
      ]
    },
    {
      "cell_type": "code",
      "source": [
        "import pandas as pd\n",
        "import numpy as np\n",
        "\n",
        "# --- 1. Define safe input function ---\n",
        "def get_input_with_range(feature_name, min_val, max_val, median_val):\n",
        "    val = input(f\"{feature_name} (leave blank if unknown): \")\n",
        "    if val.strip() == \"\":\n",
        "        print(f\"⚠ {feature_name} missing, filling with median: {median_val}\")\n",
        "        return median_val\n",
        "    val = float(val)\n",
        "    if val < min_val:\n",
        "        print(f\"⚠ {feature_name} below training min ({min_val}), capping to min\")\n",
        "        return min_val\n",
        "    elif val > max_val:\n",
        "        print(f\"⚠ {feature_name} above training max ({max_val}), capping to max\")\n",
        "        return max_val\n",
        "    return val\n",
        "\n",
        "# --- 2. Feature ranges and medians ---\n",
        "feature_ranges = {feature: (df_expanded[feature].min(), df_expanded[feature].max())\n",
        "                  for feature in df_expanded.columns if feature != 'risk_level'}\n",
        "feature_medians = {feature: df_expanded[feature].median()\n",
        "                   for feature in df_expanded.columns if feature != 'risk_level'}\n",
        "\n",
        "# --- 3. Ask user for input with validation ---\n",
        "print(\"Enter the following parameters for Rockfall Risk Analysis:\")\n",
        "\n",
        "user_values = {}\n",
        "for feature in feature_ranges:\n",
        "    min_val, max_val = feature_ranges[feature]\n",
        "    median_val = feature_medians[feature]\n",
        "    user_values[feature] = get_input_with_range(feature, min_val, max_val, median_val)\n",
        "\n",
        "# --- 4. Convert to DataFrame ---\n",
        "user_df = pd.DataFrame([user_values])\n",
        "\n",
        "# --- 5. Make prediction ---\n",
        "prediction_encoded = cat_model.predict(user_df)\n",
        "prediction_proba = cat_model.predict_proba(user_df)\n",
        "prediction_label = le.inverse_transform(prediction_encoded)\n",
        "\n",
        "# --- 6. Display results ---\n",
        "print(\"\\n--- Rockfall Risk Analysis ---\")\n",
        "print(f\"Predicted Risk Level: {prediction_label[0]}\")\n",
        "print(\"\\nConfidence Scores:\")\n",
        "for i, class_name in enumerate(le.classes_):\n",
        "    print(f\"  - {class_name}: {prediction_proba[0][i]*100:.2f}%\")\n"
      ],
      "metadata": {
        "colab": {
          "base_uri": "https://localhost:8080/"
        },
        "id": "z8FIOHSoJExM",
        "outputId": "4e35a74b-90c8-4aa1-b19d-2dae62742090"
      },
      "execution_count": null,
      "outputs": [
        {
          "output_type": "stream",
          "name": "stdout",
          "text": [
            "Enter the following parameters for Rockfall Risk Analysis:\n",
            "height (leave blank if unknown): \n",
            "⚠ height missing, filling with median: 30.92082138\n",
            "cohesion (leave blank if unknown): 28.0\n",
            "friction_angle (leave blank if unknown): 30.0\n",
            "unit_weight (leave blank if unknown): \n",
            "⚠ unit_weight missing, filling with median: 19.093342837644965\n",
            "slope_angle (leave blank if unknown): 42.0\n",
            "water_depth_ratio (leave blank if unknown): 0.22\n",
            "rainfall_mm_7d (leave blank if unknown): 100.0\n",
            "temperature_c (leave blank if unknown): \n",
            "⚠ temperature_c missing, filling with median: 26.42\n",
            "vibrations_ms2 (leave blank if unknown): 0.055\n",
            "\n",
            "--- Rockfall Risk Analysis ---\n",
            "Predicted Risk Level: Medium\n",
            "\n",
            "Confidence Scores:\n",
            "  - High: 1.06%\n",
            "  - Low: 0.32%\n",
            "  - Medium: 98.61%\n"
          ]
        },
        {
          "output_type": "stream",
          "name": "stderr",
          "text": [
            "/usr/local/lib/python3.12/dist-packages/sklearn/preprocessing/_label.py:151: DataConversionWarning: A column-vector y was passed when a 1d array was expected. Please change the shape of y to (n_samples, ), for example using ravel().\n",
            "  y = column_or_1d(y, warn=True)\n"
          ]
        }
      ]
    },
    {
      "cell_type": "code",
      "source": [],
      "metadata": {
        "id": "C_fT8j0dKqb1"
      },
      "execution_count": null,
      "outputs": []
    }
  ]
}